{
  "nbformat": 4,
  "nbformat_minor": 0,
  "metadata": {
    "colab": {
      "provenance": [],
      "authorship_tag": "ABX9TyMrPgcJ3yyK06WKGWn52gPT",
      "include_colab_link": true
    },
    "kernelspec": {
      "name": "python3",
      "display_name": "Python 3"
    },
    "language_info": {
      "name": "python"
    }
  },
  "cells": [
    {
      "cell_type": "markdown",
      "metadata": {
        "id": "view-in-github",
        "colab_type": "text"
      },
      "source": [
        "<a href=\"https://colab.research.google.com/github/dedemasutti/Machine-Learning/blob/main/prevendo_demanda_de_energia.ipynb\" target=\"_parent\"><img src=\"https://colab.research.google.com/assets/colab-badge.svg\" alt=\"Open In Colab\"/></a>"
      ]
    },
    {
      "cell_type": "code",
      "source": [
        "import numpy as np\n",
        "from sklearn.model_selection import train_test_split\n",
        "from sklearn.linear_model import LinearRegression\n",
        "from sklearn.metrics import mean_squared_error, r2_score, mean_absolute_error, mean_absolute_percentage_error\n",
        "from sklearn.datasets import fetch_california_housing\n",
        "\n",
        "# Carregar o dataset de exemplo (California housing)\n",
        "data = fetch_california_housing()\n",
        "\n",
        "# Separar os dados de entrada (recursos) e o rótulo (demanda de energia)\n",
        "X = data.data\n",
        "y = data.target\n",
        "\n",
        "# Dividir os dados em conjunto de treinamento e conjunto de teste\n",
        "X_train, X_test, y_train, y_test = train_test_split(X, y, test_size=0.2, random_state=42)\n",
        "\n",
        "# Criar o modelo de regressão linear\n",
        "model = LinearRegression()\n",
        "\n",
        "# Treinar o modelo usando o conjunto de treinamento\n",
        "model.fit(X_train, y_train)\n",
        "\n",
        "# Fazer previsões no conjunto de teste\n",
        "y_pred = model.predict(X_test)\n",
        "\n",
        "# Avaliar o modelo usando métricas de desempenho\n",
        "mse = mean_squared_error(y_test, y_pred)\n",
        "r2 = r2_score(y_test, y_pred)\n",
        "mae = mean_absolute_error(y_test, y_pred)\n",
        "mape = mean_absolute_percentage_error(y_test, y_pred)\n",
        "\n",
        "print('MSE:', mse)\n",
        "print('R2 Score:', r2)\n",
        "print('MAE:', mae)\n",
        "print('MAPE:', mape)"
      ],
      "metadata": {
        "colab": {
          "base_uri": "https://localhost:8080/"
        },
        "id": "FLDOCPNl75_Q",
        "outputId": "37d9f63e-0336-4dea-a164-798cda0f958e"
      },
      "execution_count": 9,
      "outputs": [
        {
          "output_type": "stream",
          "name": "stdout",
          "text": [
            "MSE: 0.5558915986952422\n",
            "R2 Score: 0.5757877060324524\n",
            "MAE: 0.533200130495698\n",
            "MAPE: 0.31952187413621447\n"
          ]
        }
      ]
    }
  ]
}