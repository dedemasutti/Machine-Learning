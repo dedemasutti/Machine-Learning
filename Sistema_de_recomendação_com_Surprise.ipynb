{
  "nbformat": 4,
  "nbformat_minor": 0,
  "metadata": {
    "colab": {
      "provenance": [],
      "authorship_tag": "ABX9TyOjn22Cjsg+e3B47VYL1X43",
      "include_colab_link": true
    },
    "kernelspec": {
      "name": "python3",
      "display_name": "Python 3"
    },
    "language_info": {
      "name": "python"
    }
  },
  "cells": [
    {
      "cell_type": "markdown",
      "metadata": {
        "id": "view-in-github",
        "colab_type": "text"
      },
      "source": [
        "<a href=\"https://colab.research.google.com/github/dedemasutti/Machine-Learning/blob/main/Sistema_de_recomenda%C3%A7%C3%A3o_com_Surprise.ipynb\" target=\"_parent\"><img src=\"https://colab.research.google.com/assets/colab-badge.svg\" alt=\"Open In Colab\"/></a>"
      ]
    },
    {
      "cell_type": "code",
      "source": [
        "pip install surprise"
      ],
      "metadata": {
        "colab": {
          "base_uri": "https://localhost:8080/"
        },
        "id": "xyttzNaUNTrM",
        "outputId": "f5b0ce74-1061-47c8-fd3e-4bebef02661e"
      },
      "execution_count": 15,
      "outputs": [
        {
          "output_type": "stream",
          "name": "stdout",
          "text": [
            "Collecting surprise\n",
            "  Downloading surprise-0.1-py2.py3-none-any.whl (1.8 kB)\n",
            "Requirement already satisfied: scikit-surprise in /usr/local/lib/python3.10/dist-packages (from surprise) (1.1.3)\n",
            "Requirement already satisfied: joblib>=1.0.0 in /usr/local/lib/python3.10/dist-packages (from scikit-surprise->surprise) (1.2.0)\n",
            "Requirement already satisfied: numpy>=1.17.3 in /usr/local/lib/python3.10/dist-packages (from scikit-surprise->surprise) (1.22.4)\n",
            "Requirement already satisfied: scipy>=1.3.2 in /usr/local/lib/python3.10/dist-packages (from scikit-surprise->surprise) (1.10.1)\n",
            "Installing collected packages: surprise\n",
            "Successfully installed surprise-0.1\n"
          ]
        }
      ]
    },
    {
      "cell_type": "code",
      "source": [
        "from surprise import Dataset, Reader, KNNWithMeans\n",
        "from surprise.model_selection import train_test_split\n",
        "\n",
        "# Carregar os dados de avaliações (usuário, item, avaliação)\n",
        "dados = Dataset.load_builtin('ml-100k')\n",
        "\n",
        "# Dividir os dados em conjunto de treino e de teste\n",
        "trainset, testset = train_test_split(dados, test_size=0.2, random_state=42)\n",
        "\n",
        "# Configurar o algoritmo KNN (K-Nearest Neighbors)\n",
        "algo = KNNWithMeans(k=5, sim_options={'name': 'pearson', 'user_based': True})\n",
        "\n",
        "# Treinar o modelo\n",
        "algo.fit(trainset)\n",
        "\n",
        "# Fazer previsões no conjunto de teste\n",
        "predictions = algo.test(testset)\n",
        "\n",
        "# Exemplo de uso: obter as recomendações para um usuário específico\n",
        "user_id = str(109)  # ID do usuário (por exemplo, '109')\n",
        "n_recomendacoes = 5  # Número de recomendações configuradas\n",
        "\n",
        "# Pegar os itens não avaliados pelo usuário\n",
        "items_avaliados = set([item_iid for ( item_iid, _) in trainset.ur[int(user_id)]])\n",
        "itens_nao_avaliados = [item for item in trainset.all_items() if item not in items_avaliados]\n",
        "\n",
        "# Fazer previsões para os itens não avaliados\n",
        "predictions_usuario = [algo.predict(user_id, item_id) for item_id in itens_nao_avaliados]\n",
        "\n",
        "# Classificar as previsões em ordem decrescente de estimativas\n",
        "recomendacoes = sorted(predictions_usuario, key=lambda x: x.est, reverse=True)[:n_recomendacoes]\n",
        "\n",
        "# Imprimir as principais recomendações\n",
        "print(f\"As principais recomendações para o usuário {user_id} são:\")\n",
        "for recomendacao in recomendacoes:\n",
        "    print(f\"Item: {recomendacao.iid}, Estimativa: {recomendacao.est}\")\n"
      ],
      "metadata": {
        "colab": {
          "base_uri": "https://localhost:8080/"
        },
        "id": "F3TO4x6NHNN5",
        "outputId": "74577bb5-42e4-46f7-c4dc-13ba96aa0f3b"
      },
      "execution_count": 19,
      "outputs": [
        {
          "output_type": "stream",
          "name": "stdout",
          "text": [
            "Computing the pearson similarity matrix...\n",
            "Done computing similarity matrix.\n",
            "As principais recomendações para o usuário 109 são:\n",
            "Item: 0, Estimativa: 3.5318875\n",
            "Item: 1, Estimativa: 3.5318875\n",
            "Item: 2, Estimativa: 3.5318875\n",
            "Item: 3, Estimativa: 3.5318875\n",
            "Item: 4, Estimativa: 3.5318875\n"
          ]
        }
      ]
    },
    {
      "cell_type": "code",
      "source": [],
      "metadata": {
        "id": "csERQmioNR9m"
      },
      "execution_count": null,
      "outputs": []
    },
    {
      "cell_type": "code",
      "source": [],
      "metadata": {
        "id": "rf0MDx49HNKQ"
      },
      "execution_count": null,
      "outputs": []
    }
  ]
}