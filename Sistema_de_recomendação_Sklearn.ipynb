{
  "nbformat": 4,
  "nbformat_minor": 0,
  "metadata": {
    "colab": {
      "provenance": [],
      "authorship_tag": "ABX9TyNl5PTcLjQcR//hSsDG7d59",
      "include_colab_link": true
    },
    "kernelspec": {
      "name": "python3",
      "display_name": "Python 3"
    },
    "language_info": {
      "name": "python"
    }
  },
  "cells": [
    {
      "cell_type": "markdown",
      "metadata": {
        "id": "view-in-github",
        "colab_type": "text"
      },
      "source": [
        "<a href=\"https://colab.research.google.com/github/dedemasutti/Machine-Learning/blob/main/Sistema_de_recomenda%C3%A7%C3%A3o_Sklearn.ipynb\" target=\"_parent\"><img src=\"https://colab.research.google.com/assets/colab-badge.svg\" alt=\"Open In Colab\"/></a>"
      ]
    },
    {
      "cell_type": "code",
      "execution_count": 14,
      "metadata": {
        "id": "fRgl525d0-h7",
        "colab": {
          "base_uri": "https://localhost:8080/"
        },
        "outputId": "dafd9ea5-c9ce-4548-8ff2-c112e400d9cf"
      },
      "outputs": [
        {
          "output_type": "stream",
          "name": "stdout",
          "text": [
            "As principais recomendações para Bia são: ['Davi', 'Chico']\n"
          ]
        }
      ],
      "source": [
        "import numpy as np\n",
        "from sklearn.metrics.pairwise import cosine_similarity\n",
        "\n",
        "# Dados de entrada\n",
        "dados = {\n",
        "    'Chico': [5, 3, 4, 4, 2],\n",
        "    'Bia': [3, 1, 2, 3, 3],\n",
        "    'Cris': [4, 3, 4, 3, 2],\n",
        "    'Davi': [3, 3, 1, 5, 4],\n",
        "    'João': [2, 5, 9, 4, 5],\n",
        "    'Lia': [5, 4, 3 , 2 ,1]\n",
        "}\n",
        "\n",
        "# Converter os dados em um array numpy\n",
        "matriz = np.array(list(dados.values()))\n",
        "\n",
        "# Calcula a  similaridade do cosseno entre os itens\n",
        "similaridade_cos = cosine_similarity(matriz)\n",
        "\n",
        "# Função para obter as principais recomendações para um item\n",
        "def pegar_recomendacoes(item, similaridade_cos, dados, numero_recomendacoes):\n",
        "    item_index = list(dados.keys()).index(item)\n",
        "    similaridade_item = similaridade_cos[item_index]\n",
        "    indices_recomendacoes = np.argsort(similaridade_item)[-numero_recomendacoes-1:-1][::-1]\n",
        "    recomendacoes = [list(dados.keys())[i] for i in indices_recomendacoes]\n",
        "    return recomendacoes\n",
        "\n",
        "# Exemplo de uso\n",
        "item = 'Bia'\n",
        "numero_recomendacoes = 2\n",
        "recomendacoes = pegar_recomendacoes(item, similaridade_cos, dados, numero_recomendacoes)\n",
        "print(f\"As principais recomendações para {item} são: {recomendacoes}\")\n"
      ]
    },
    {
      "cell_type": "code",
      "source": [],
      "metadata": {
        "id": "F3TO4x6NHNN5"
      },
      "execution_count": null,
      "outputs": []
    },
    {
      "cell_type": "code",
      "source": [],
      "metadata": {
        "id": "rf0MDx49HNKQ"
      },
      "execution_count": null,
      "outputs": []
    }
  ]
}