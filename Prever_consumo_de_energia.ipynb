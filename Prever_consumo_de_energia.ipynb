{
  "nbformat": 4,
  "nbformat_minor": 0,
  "metadata": {
    "colab": {
      "provenance": [],
      "authorship_tag": "ABX9TyNB5EG4VNjX9m3X1YlV/DIP",
      "include_colab_link": true
    },
    "kernelspec": {
      "name": "python3",
      "display_name": "Python 3"
    },
    "language_info": {
      "name": "python"
    }
  },
  "cells": [
    {
      "cell_type": "markdown",
      "metadata": {
        "id": "view-in-github",
        "colab_type": "text"
      },
      "source": [
        "<a href=\"https://colab.research.google.com/github/dedemasutti/Machine-Learning/blob/main/Prever_consumo_de_energia.ipynb\" target=\"_parent\"><img src=\"https://colab.research.google.com/assets/colab-badge.svg\" alt=\"Open In Colab\"/></a>"
      ]
    },
    {
      "cell_type": "markdown",
      "source": [
        "## Projeto para prever uso de energia com Sklearn\n",
        "\n",
        "---\n",
        "\n"
      ],
      "metadata": {
        "id": "jdd4RRUDOQ2V"
      }
    },
    {
      "cell_type": "code",
      "source": [
        "import pandas as pd\n",
        "from sklearn.model_selection import train_test_split\n",
        "from sklearn.linear_model import LinearRegression\n",
        "from sklearn.metrics import mean_squared_error\n",
        "\n",
        "# Carrega os dados\n",
        "data = pd.read_csv('dados_energia.csv')\n",
        "\n",
        "# Divide os dados em recursos (X) e rótulos (y)\n",
        "X = data.drop('uso_energia', axis=1)\n",
        "y = data['uso_energia']\n",
        "\n",
        "# Separa os dados em conjunto de treinamento e conjunto de teste\n",
        "X_train, X_test, y_train, y_test = train_test_split(X, y, test_size=0.2, random_state=42)\n",
        "\n",
        "# Cria o modelo de regressão linear\n",
        "model = LinearRegression()\n",
        "\n",
        "# Treina o modelo usando o conjunto de treinamento\n",
        "model.fit(X_train, y_train)\n",
        "\n",
        "# Previsões no conjunto de teste\n",
        "y_pred = model.predict(X_test)\n",
        "\n",
        "# Avalia o modelo usando a métrica de erro médio quadrático (RMSE)\n",
        "mse = mean_squared_error(y_test, y_pred)\n",
        "rmse = mse**0.5\n",
        "print('RMSE:', rmse)\n"
      ],
      "metadata": {
        "id": "ffmthJelOYuH"
      },
      "execution_count": null,
      "outputs": []
    }
  ]
}